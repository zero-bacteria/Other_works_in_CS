{
 "cells": [
  {
   "cell_type": "code",
   "execution_count": 1,
   "id": "87b6b8ca",
   "metadata": {
    "ExecuteTime": {
     "end_time": "2022-04-05T05:32:15.905176Z",
     "start_time": "2022-04-05T05:32:14.046368Z"
    }
   },
   "outputs": [],
   "source": [
    "import os\n",
    "import pandas as pd\n",
    "import openpyxl as px"
   ]
  },
  {
   "cell_type": "code",
   "execution_count": 2,
   "id": "b8ccdebf",
   "metadata": {
    "ExecuteTime": {
     "end_time": "2022-04-05T05:32:17.092282Z",
     "start_time": "2022-04-05T05:32:17.076325Z"
    }
   },
   "outputs": [],
   "source": [
    "lf = os.listdir('./aset')\n",
    "rf = os.listdir('./bset')"
   ]
  },
  {
   "cell_type": "code",
   "execution_count": 3,
   "id": "fdd79ad7",
   "metadata": {
    "ExecuteTime": {
     "end_time": "2022-04-05T05:32:22.543571Z",
     "start_time": "2022-04-05T05:32:19.252898Z"
    }
   },
   "outputs": [],
   "source": [
    "lb = px.load_workbook(f'./aset/{lf[0]}')\n",
    "ls = lb.active\n",
    "\n",
    "# 먼저 1행부터 3행까지 지우고 시작\n",
    "# for i in range(1,3):\n",
    "#     ls.unmerge_cells(1,i,3,i)\n",
    "    \n",
    "# for i in range(5,15):\n",
    "#     ls.unmerge_cells(1,i,3,i)\n",
    "\n",
    "# for i in range(27,37):\n",
    "#     ls.unmerge_cells(1,i,3,i)\n",
    "    \n",
    "# ls.cell(1,3).value = 'Planning_Season'\n",
    "# ls.cell(1,4).value = 'Costing_Season'\n",
    "\n",
    "\n",
    "for i in range(1, ls.max_column):\n",
    "    temp = ls.cell(1,i).value\n",
    "    ls.cell(1,i).value = temp.replace(' ', '_')"
   ]
  },
  {
   "cell_type": "code",
   "execution_count": 4,
   "id": "af393afb",
   "metadata": {
    "ExecuteTime": {
     "end_time": "2022-04-05T05:32:27.933471Z",
     "start_time": "2022-04-05T05:32:24.052216Z"
    }
   },
   "outputs": [],
   "source": [
    "rb = px.load_workbook(f'./bset/{rf[0]}')\n",
    "rs = rb.active\n",
    "\n",
    "for i in range(1, rs.max_column):\n",
    "    if rs.cell(1,i).value:\n",
    "        temp = rs.cell(1,i).value\n",
    "        rs.cell(1,i).value = temp.replace(' ', '_')"
   ]
  },
  {
   "cell_type": "code",
   "execution_count": 5,
   "id": "c6b5376b",
   "metadata": {
    "ExecuteTime": {
     "end_time": "2022-04-05T05:32:38.420009Z",
     "start_time": "2022-04-05T05:32:29.812964Z"
    }
   },
   "outputs": [],
   "source": [
    "rb.save('./rf.xlsx')\n",
    "lb.save('./lf.xlsx')\n",
    "\n",
    "rb.close()\n",
    "lb.close()"
   ]
  },
  {
   "cell_type": "code",
   "execution_count": 6,
   "id": "119b9463",
   "metadata": {
    "ExecuteTime": {
     "end_time": "2022-04-05T05:32:44.399587Z",
     "start_time": "2022-04-05T05:32:39.736937Z"
    }
   },
   "outputs": [
    {
     "data": {
      "text/html": [
       "<div>\n",
       "<style scoped>\n",
       "    .dataframe tbody tr th:only-of-type {\n",
       "        vertical-align: middle;\n",
       "    }\n",
       "\n",
       "    .dataframe tbody tr th {\n",
       "        vertical-align: top;\n",
       "    }\n",
       "\n",
       "    .dataframe thead th {\n",
       "        text-align: right;\n",
       "    }\n",
       "</style>\n",
       "<table border=\"1\" class=\"dataframe\">\n",
       "  <thead>\n",
       "    <tr style=\"text-align: right;\">\n",
       "      <th></th>\n",
       "      <th>PO_Season</th>\n",
       "      <th>Costing_Season</th>\n",
       "      <th>PCC</th>\n",
       "      <th>Factory</th>\n",
       "      <th>DPA</th>\n",
       "      <th>Dev.Style</th>\n",
       "      <th>Colorway</th>\n",
       "      <th>Model_Name</th>\n",
       "      <th>New_/_Remain</th>\n",
       "      <th>Development_Team</th>\n",
       "      <th>...</th>\n",
       "      <th>Ready_for_review_Date</th>\n",
       "      <th>Sephiroth_Status</th>\n",
       "      <th>PCX_Status</th>\n",
       "      <th>Quote_Status_Date</th>\n",
       "      <th>Quote_Missing/Pending__reason</th>\n",
       "      <th>PCX_Request</th>\n",
       "      <th>SAP_PO</th>\n",
       "      <th>PMO_Validator_(Linesheet)</th>\n",
       "      <th>DPO</th>\n",
       "      <th>Rework</th>\n",
       "    </tr>\n",
       "  </thead>\n",
       "  <tbody>\n",
       "    <tr>\n",
       "      <th>0</th>\n",
       "      <td>HO21</td>\n",
       "      <td>SP22</td>\n",
       "      <td>JJ</td>\n",
       "      <td>JJ</td>\n",
       "      <td>FA19TBYASW314</td>\n",
       "      <td>BQ5453-001</td>\n",
       "      <td>530140.0</td>\n",
       "      <td>NIKE COURT BOROUGH LOW 2 (TDV)</td>\n",
       "      <td>Remain</td>\n",
       "      <td>NIKE KIDS SPORT LIFESTYLE</td>\n",
       "      <td>...</td>\n",
       "      <td>2021-08-18</td>\n",
       "      <td>Confirmed</td>\n",
       "      <td>Confirmed</td>\n",
       "      <td>2021-08-18</td>\n",
       "      <td>NaN</td>\n",
       "      <td>O</td>\n",
       "      <td>O</td>\n",
       "      <td>Hang Tran</td>\n",
       "      <td>7104.0</td>\n",
       "      <td>Yes</td>\n",
       "    </tr>\n",
       "    <tr>\n",
       "      <th>1</th>\n",
       "      <td>HO21</td>\n",
       "      <td>SP22</td>\n",
       "      <td>VJ</td>\n",
       "      <td>JJ</td>\n",
       "      <td>SP20PUYASW819</td>\n",
       "      <td>CD6867-001</td>\n",
       "      <td>323192.0</td>\n",
       "      <td>NIKE AIR MAX 90 LTR (PS)</td>\n",
       "      <td>Remain</td>\n",
       "      <td>NIKE KIDS SPORT LIFESTYLE</td>\n",
       "      <td>...</td>\n",
       "      <td>2021-08-18</td>\n",
       "      <td>Confirmed</td>\n",
       "      <td>Confirmed</td>\n",
       "      <td>2021-08-18</td>\n",
       "      <td>NaN</td>\n",
       "      <td>O</td>\n",
       "      <td>O</td>\n",
       "      <td>JungHwa Im</td>\n",
       "      <td>6018.0</td>\n",
       "      <td>No</td>\n",
       "    </tr>\n",
       "    <tr>\n",
       "      <th>2</th>\n",
       "      <td>HO21</td>\n",
       "      <td>SP22</td>\n",
       "      <td>JJ</td>\n",
       "      <td>JJ</td>\n",
       "      <td>SU19MNRUNN425</td>\n",
       "      <td>AQ2203-002</td>\n",
       "      <td>578490.0</td>\n",
       "      <td>NIKE AIR ZOOM PEGASUS 36</td>\n",
       "      <td>Remain</td>\n",
       "      <td>M RUNNING</td>\n",
       "      <td>...</td>\n",
       "      <td>2021-08-23</td>\n",
       "      <td>Confirmed</td>\n",
       "      <td>Confirmed</td>\n",
       "      <td>2021-08-23</td>\n",
       "      <td>NaN</td>\n",
       "      <td>O</td>\n",
       "      <td>O</td>\n",
       "      <td>Philip Yi</td>\n",
       "      <td>4992.0</td>\n",
       "      <td>Yes</td>\n",
       "    </tr>\n",
       "  </tbody>\n",
       "</table>\n",
       "<p>3 rows × 43 columns</p>\n",
       "</div>"
      ],
      "text/plain": [
       "  PO_Season Costing_Season PCC Factory            DPA   Dev.Style  Colorway  \\\n",
       "0      HO21           SP22  JJ      JJ  FA19TBYASW314  BQ5453-001  530140.0   \n",
       "1      HO21           SP22  VJ      JJ  SP20PUYASW819  CD6867-001  323192.0   \n",
       "2      HO21           SP22  JJ      JJ  SU19MNRUNN425  AQ2203-002  578490.0   \n",
       "\n",
       "                       Model_Name New_/_Remain           Development_Team  \\\n",
       "0  NIKE COURT BOROUGH LOW 2 (TDV)       Remain  NIKE KIDS SPORT LIFESTYLE   \n",
       "1        NIKE AIR MAX 90 LTR (PS)       Remain  NIKE KIDS SPORT LIFESTYLE   \n",
       "2        NIKE AIR ZOOM PEGASUS 36       Remain                  M RUNNING   \n",
       "\n",
       "   ... Ready_for_review_Date Sephiroth_Status PCX_Status  Quote_Status_Date  \\\n",
       "0  ...            2021-08-18        Confirmed  Confirmed         2021-08-18   \n",
       "1  ...            2021-08-18        Confirmed  Confirmed         2021-08-18   \n",
       "2  ...            2021-08-23        Confirmed  Confirmed         2021-08-23   \n",
       "\n",
       "  Quote_Missing/Pending__reason PCX_Request SAP_PO PMO_Validator_(Linesheet)  \\\n",
       "0                           NaN           O      O                 Hang Tran   \n",
       "1                           NaN           O      O                JungHwa Im   \n",
       "2                           NaN           O      O                 Philip Yi   \n",
       "\n",
       "      DPO Rework  \n",
       "0  7104.0    Yes  \n",
       "1  6018.0     No  \n",
       "2  4992.0    Yes  \n",
       "\n",
       "[3 rows x 43 columns]"
      ]
     },
     "execution_count": 6,
     "metadata": {},
     "output_type": "execute_result"
    }
   ],
   "source": [
    "rdf = pd.read_excel('./rf.xlsx')\n",
    "ldf = pd.read_excel('./lf.xlsx')\n",
    "rdf.head(3)"
   ]
  },
  {
   "cell_type": "code",
   "execution_count": null,
   "id": "0c522f3e",
   "metadata": {},
   "outputs": [],
   "source": []
  }
 ],
 "metadata": {
  "kernelspec": {
   "display_name": "Python 3 (ipykernel)",
   "language": "python",
   "name": "python3"
  },
  "language_info": {
   "codemirror_mode": {
    "name": "ipython",
    "version": 3
   },
   "file_extension": ".py",
   "mimetype": "text/x-python",
   "name": "python",
   "nbconvert_exporter": "python",
   "pygments_lexer": "ipython3",
   "version": "3.9.6"
  },
  "toc": {
   "base_numbering": 1,
   "nav_menu": {},
   "number_sections": true,
   "sideBar": true,
   "skip_h1_title": false,
   "title_cell": "Table of Contents",
   "title_sidebar": "Contents",
   "toc_cell": false,
   "toc_position": {},
   "toc_section_display": true,
   "toc_window_display": false
  }
 },
 "nbformat": 4,
 "nbformat_minor": 5
}
