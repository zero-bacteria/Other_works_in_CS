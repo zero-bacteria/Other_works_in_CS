{
 "cells": [
  {
   "cell_type": "code",
   "execution_count": 1,
   "id": "b9774084",
   "metadata": {
    "ExecuteTime": {
     "end_time": "2022-04-06T04:51:35.098606Z",
     "start_time": "2022-04-06T04:51:27.186169Z"
    }
   },
   "outputs": [],
   "source": [
    "import os\n",
    "import openpyxl as px\n",
    "import pandas as pd"
   ]
  },
  {
   "cell_type": "code",
   "execution_count": 20,
   "id": "02a3ad69",
   "metadata": {
    "ExecuteTime": {
     "end_time": "2022-04-06T06:35:12.913225Z",
     "start_time": "2022-04-06T06:35:04.338357Z"
    },
    "scrolled": false
   },
   "outputs": [
    {
     "data": {
      "text/html": [
       "<div>\n",
       "<style scoped>\n",
       "    .dataframe tbody tr th:only-of-type {\n",
       "        vertical-align: middle;\n",
       "    }\n",
       "\n",
       "    .dataframe tbody tr th {\n",
       "        vertical-align: top;\n",
       "    }\n",
       "\n",
       "    .dataframe thead th {\n",
       "        text-align: right;\n",
       "    }\n",
       "</style>\n",
       "<table border=\"1\" class=\"dataframe\">\n",
       "  <thead>\n",
       "    <tr style=\"text-align: right;\">\n",
       "      <th></th>\n",
       "      <th>Unnamed: 0</th>\n",
       "      <th>PCC_Code</th>\n",
       "      <th>OBS_Type</th>\n",
       "      <th>Planning_Season</th>\n",
       "      <th>Costing_Season</th>\n",
       "      <th>PO_ID</th>\n",
       "      <th>Prod_Fac</th>\n",
       "      <th>Status</th>\n",
       "      <th>Style_Code</th>\n",
       "      <th>Colorway</th>\n",
       "      <th>...</th>\n",
       "      <th>pcc_developer</th>\n",
       "      <th>pmo_costing_bom/bol</th>\n",
       "      <th>development_team</th>\n",
       "      <th>quote_state_date</th>\n",
       "      <th>fob_cost_usd</th>\n",
       "      <th>tooling_cost_usd</th>\n",
       "      <th>fob_cost_with_tooling</th>\n",
       "      <th>CBD Link</th>\n",
       "      <th>factory</th>\n",
       "      <th>prod_code</th>\n",
       "    </tr>\n",
       "  </thead>\n",
       "  <tbody>\n",
       "    <tr>\n",
       "      <th>0</th>\n",
       "      <td>0</td>\n",
       "      <td>JJ</td>\n",
       "      <td>Footwear</td>\n",
       "      <td>HO21</td>\n",
       "      <td>SP22</td>\n",
       "      <td>SP22 1st</td>\n",
       "      <td>JJ</td>\n",
       "      <td>Remain</td>\n",
       "      <td>BQ5453001</td>\n",
       "      <td>530140-BLACK/BLACK-BLACK-001-FA19</td>\n",
       "      <td>...</td>\n",
       "      <td>NaN</td>\n",
       "      <td>Hang Tran</td>\n",
       "      <td>NIKE KIDS SPORT LIFESTYLE</td>\n",
       "      <td>08/18/2021</td>\n",
       "      <td>10.9975</td>\n",
       "      <td>0.0</td>\n",
       "      <td>10.9975</td>\n",
       "      <td>https://prod-parc-cbd-ui.pes-prod.nike.com/cbd...</td>\n",
       "      <td>JJ</td>\n",
       "      <td>BQ5453001</td>\n",
       "    </tr>\n",
       "    <tr>\n",
       "      <th>1</th>\n",
       "      <td>1</td>\n",
       "      <td>VJ</td>\n",
       "      <td>Footwear</td>\n",
       "      <td>HO21</td>\n",
       "      <td>SP22</td>\n",
       "      <td>SP22 1st</td>\n",
       "      <td>JJ</td>\n",
       "      <td>Remain</td>\n",
       "      <td>CD6867001</td>\n",
       "      <td>323192-BLACK/BLACK-BLACK-WHITE-001-SP20</td>\n",
       "      <td>...</td>\n",
       "      <td>Pipi Chandra (JJ)</td>\n",
       "      <td>JungHwa Im</td>\n",
       "      <td>NIKE KIDS SPORT LIFESTYLE</td>\n",
       "      <td>08/18/2021</td>\n",
       "      <td>16.3282</td>\n",
       "      <td>0.0</td>\n",
       "      <td>16.3282</td>\n",
       "      <td>https://prod-parc-cbd-ui.pes-prod.nike.com/cbd...</td>\n",
       "      <td>JJ</td>\n",
       "      <td>CD6867001</td>\n",
       "    </tr>\n",
       "    <tr>\n",
       "      <th>2</th>\n",
       "      <td>2</td>\n",
       "      <td>JJ</td>\n",
       "      <td>Footwear</td>\n",
       "      <td>HO21</td>\n",
       "      <td>SP22</td>\n",
       "      <td>SP22 1st</td>\n",
       "      <td>JJ</td>\n",
       "      <td>Remain</td>\n",
       "      <td>AQ2203002</td>\n",
       "      <td>578490-BLACK/WHT/THUNDER GREY-002-SU19</td>\n",
       "      <td>...</td>\n",
       "      <td>NaN</td>\n",
       "      <td>Philip Yi</td>\n",
       "      <td>M RUNNING</td>\n",
       "      <td>08/23/2021</td>\n",
       "      <td>21.8444</td>\n",
       "      <td>0.0</td>\n",
       "      <td>21.8444</td>\n",
       "      <td>https://prod-parc-cbd-ui.pes-prod.nike.com/cbd...</td>\n",
       "      <td>JJ</td>\n",
       "      <td>AQ2203002</td>\n",
       "    </tr>\n",
       "    <tr>\n",
       "      <th>3</th>\n",
       "      <td>3</td>\n",
       "      <td>VJ</td>\n",
       "      <td>Footwear</td>\n",
       "      <td>FA21</td>\n",
       "      <td>SP22</td>\n",
       "      <td>SP22 1st</td>\n",
       "      <td>JJ</td>\n",
       "      <td>Remain</td>\n",
       "      <td>CD6864001</td>\n",
       "      <td>323209-BLACK/BLACK-BLACK-WHITE-001-SP20</td>\n",
       "      <td>...</td>\n",
       "      <td>Pipi Chandra (JJ)</td>\n",
       "      <td>JungHwa Im</td>\n",
       "      <td>NIKE KIDS SPORT LIFESTYLE</td>\n",
       "      <td>11/09/2021</td>\n",
       "      <td>18.8160</td>\n",
       "      <td>0.0</td>\n",
       "      <td>18.8160</td>\n",
       "      <td>https://prod-parc-cbd-ui.pes-prod.nike.com/cbd...</td>\n",
       "      <td>JJ</td>\n",
       "      <td>CD6864001</td>\n",
       "    </tr>\n",
       "    <tr>\n",
       "      <th>4</th>\n",
       "      <td>4</td>\n",
       "      <td>VJ</td>\n",
       "      <td>Footwear</td>\n",
       "      <td>FA21</td>\n",
       "      <td>SP22</td>\n",
       "      <td>SP22 1st</td>\n",
       "      <td>JJ</td>\n",
       "      <td>Remain</td>\n",
       "      <td>CD6864100</td>\n",
       "      <td>641658-WHITE/WHITE-MTLC SILVER-WHITE-100-SP20</td>\n",
       "      <td>...</td>\n",
       "      <td>Pipi Chandra (JJ)</td>\n",
       "      <td>JungHwa Im</td>\n",
       "      <td>NIKE KIDS SPORT LIFESTYLE</td>\n",
       "      <td>11/09/2021</td>\n",
       "      <td>18.6609</td>\n",
       "      <td>0.0</td>\n",
       "      <td>18.6609</td>\n",
       "      <td>https://prod-parc-cbd-ui.pes-prod.nike.com/cbd...</td>\n",
       "      <td>JJ</td>\n",
       "      <td>CD6864100</td>\n",
       "    </tr>\n",
       "  </tbody>\n",
       "</table>\n",
       "<p>5 rows × 69 columns</p>\n",
       "</div>"
      ],
      "text/plain": [
       "   Unnamed: 0 PCC_Code  OBS_Type Planning_Season Costing_Season     PO_ID  \\\n",
       "0           0       JJ  Footwear            HO21           SP22  SP22 1st   \n",
       "1           1       VJ  Footwear            HO21           SP22  SP22 1st   \n",
       "2           2       JJ  Footwear            HO21           SP22  SP22 1st   \n",
       "3           3       VJ  Footwear            FA21           SP22  SP22 1st   \n",
       "4           4       VJ  Footwear            FA21           SP22  SP22 1st   \n",
       "\n",
       "  Prod_Fac  Status Style_Code                                       Colorway  \\\n",
       "0       JJ  Remain  BQ5453001              530140-BLACK/BLACK-BLACK-001-FA19   \n",
       "1       JJ  Remain  CD6867001        323192-BLACK/BLACK-BLACK-WHITE-001-SP20   \n",
       "2       JJ  Remain  AQ2203002         578490-BLACK/WHT/THUNDER GREY-002-SU19   \n",
       "3       JJ  Remain  CD6864001        323209-BLACK/BLACK-BLACK-WHITE-001-SP20   \n",
       "4       JJ  Remain  CD6864100  641658-WHITE/WHITE-MTLC SILVER-WHITE-100-SP20   \n",
       "\n",
       "   ...      pcc_developer pmo_costing_bom/bol           development_team  \\\n",
       "0  ...                NaN           Hang Tran  NIKE KIDS SPORT LIFESTYLE   \n",
       "1  ...  Pipi Chandra (JJ)          JungHwa Im  NIKE KIDS SPORT LIFESTYLE   \n",
       "2  ...                NaN           Philip Yi                  M RUNNING   \n",
       "3  ...  Pipi Chandra (JJ)          JungHwa Im  NIKE KIDS SPORT LIFESTYLE   \n",
       "4  ...  Pipi Chandra (JJ)          JungHwa Im  NIKE KIDS SPORT LIFESTYLE   \n",
       "\n",
       "  quote_state_date fob_cost_usd tooling_cost_usd fob_cost_with_tooling  \\\n",
       "0       08/18/2021      10.9975              0.0               10.9975   \n",
       "1       08/18/2021      16.3282              0.0               16.3282   \n",
       "2       08/23/2021      21.8444              0.0               21.8444   \n",
       "3       11/09/2021      18.8160              0.0               18.8160   \n",
       "4       11/09/2021      18.6609              0.0               18.6609   \n",
       "\n",
       "                                            CBD Link factory  prod_code  \n",
       "0  https://prod-parc-cbd-ui.pes-prod.nike.com/cbd...      JJ  BQ5453001  \n",
       "1  https://prod-parc-cbd-ui.pes-prod.nike.com/cbd...      JJ  CD6867001  \n",
       "2  https://prod-parc-cbd-ui.pes-prod.nike.com/cbd...      JJ  AQ2203002  \n",
       "3  https://prod-parc-cbd-ui.pes-prod.nike.com/cbd...      JJ  CD6864001  \n",
       "4  https://prod-parc-cbd-ui.pes-prod.nike.com/cbd...      JJ  CD6864100  \n",
       "\n",
       "[5 rows x 69 columns]"
      ]
     },
     "execution_count": 20,
     "metadata": {},
     "output_type": "execute_result"
    }
   ],
   "source": [
    "raw_df = pd.read_excel('./first.xlsx')\n",
    "\n",
    "raw_df.head()"
   ]
  },
  {
   "cell_type": "code",
   "execution_count": 44,
   "id": "a65101e7",
   "metadata": {
    "ExecuteTime": {
     "end_time": "2022-04-06T06:51:34.247688Z",
     "start_time": "2022-04-06T06:51:34.212588Z"
    }
   },
   "outputs": [],
   "source": [
    "raw_df['colorway2'] = raw_df['colorways'].str.slice(start=0, stop=7)\n",
    "raw_df['colorway2'] = raw_df['colorway2'].str.replace('-', '')\n",
    "\n",
    "raw_df['colorway2']\n",
    "\n",
    "raw_df['my_po'] = raw_df['PO_ID'].str.slice(start=0, stop=4)\n",
    "\n"
   ]
  },
  {
   "cell_type": "code",
   "execution_count": 3,
   "id": "dd6675ef",
   "metadata": {
    "ExecuteTime": {
     "end_time": "2022-04-06T06:21:55.372815Z",
     "start_time": "2022-04-06T06:21:55.306991Z"
    }
   },
   "outputs": [
    {
     "data": {
      "text/plain": [
       "Index(['Unnamed: 0', 'PCC_Code', 'OBS_Type', 'Planning_Season',\n",
       "       'Costing_Season', 'PO_ID', 'Prod_Fac', 'Status', 'Style_Code',\n",
       "       'Colorway', 'Dev_Style', 'TD', 'MO_ID', 'GAC', 'GAC-49', 'CBD_ETQ',\n",
       "       'Document_Posting', '5523_in_PCX', 'OBSMEOF_CT__Tooling_QTY',\n",
       "       'PST__SUTF__SBTF', 'YIELD', 'Bottom_MEOF', 'CFM_Shoe',\n",
       "       'PFC_(Non_trial_cw)', 'PFC_(RFC_trial_cw)', 'CS_BOM_(TP_X)',\n",
       "       'CS_BOM_(TP_O)', 'CBD_Status', 'Actual_PCC', 'Remarks', 'DPO',\n",
       "       'dev_style', 'my_key', 'lineplan_season', 'costing_season',\n",
       "       'quote_state', 'dev_style_name', 'style_number', 'colorways',\n",
       "       'milestone', 'pcc_code', 'pcc_costing', 'td_code', 'cost_sheet_id',\n",
       "       'sourcing_configuration', 'target_retail_price',\n",
       "       'development_target_fob_cost', 'target_material_cost',\n",
       "       'target_labor_cost', 'target_overhead_cost', 'target_profit_cost',\n",
       "       'target_tooling_cost', 'target_standard_minutes',\n",
       "       'target_observed_minutes', 'actual_ship_date', 'estimated_ship_date',\n",
       "       'ready_for_review_due_date', 'reviewed_due_date', 'whq_developer',\n",
       "       'pcc_developer', 'pmo_costing_bom/bol', 'development_team',\n",
       "       'quote_state_date', 'fob_cost_usd', 'tooling_cost_usd',\n",
       "       'fob_cost_with_tooling', 'CBD Link', 'factory', 'prod_code'],\n",
       "      dtype='object')"
      ]
     },
     "execution_count": 3,
     "metadata": {},
     "output_type": "execute_result"
    }
   ],
   "source": [
    "raw_df.columns"
   ]
  },
  {
   "cell_type": "code",
   "execution_count": 42,
   "id": "8002c744",
   "metadata": {
    "ExecuteTime": {
     "end_time": "2022-04-06T06:50:17.926152Z",
     "start_time": "2022-04-06T06:50:17.902210Z"
    }
   },
   "outputs": [],
   "source": [
    "my_df = raw_df[['lineplan_season', 'Planning_Season', 'Costing_Season', 'PCC_Code', 'Prod_Fac', 'MO_ID', 'colorways', 'colorway2', 'Dev_Style','Status','development_team', 'pcc_developer', 'TD', 'GAC', 'GAC-49', 'CBD_ETQ', 'Document_Posting', '5523_in_PCX', 'YIELD','PFC_(Non_trial_cw)', 'PFC_(RFC_trial_cw)', 'CS_BOM_(TP_X)',\n",
    "       'CS_BOM_(TP_O)', 'pcc_costing', 'quote_state', 'PO_ID', 'my_po']]"
   ]
  },
  {
   "cell_type": "code",
   "execution_count": 43,
   "id": "3ed155b6",
   "metadata": {
    "ExecuteTime": {
     "end_time": "2022-04-06T06:50:25.764986Z",
     "start_time": "2022-04-06T06:50:20.772463Z"
    }
   },
   "outputs": [],
   "source": [
    "my_df.to_excel('./my_report.xlsx')"
   ]
  },
  {
   "cell_type": "code",
   "execution_count": null,
   "id": "4b1d9b00",
   "metadata": {},
   "outputs": [],
   "source": []
  },
  {
   "cell_type": "code",
   "execution_count": null,
   "id": "e1423dbf",
   "metadata": {},
   "outputs": [],
   "source": []
  }
 ],
 "metadata": {
  "kernelspec": {
   "display_name": "Python 3 (ipykernel)",
   "language": "python",
   "name": "python3"
  },
  "language_info": {
   "codemirror_mode": {
    "name": "ipython",
    "version": 3
   },
   "file_extension": ".py",
   "mimetype": "text/x-python",
   "name": "python",
   "nbconvert_exporter": "python",
   "pygments_lexer": "ipython3",
   "version": "3.9.6"
  },
  "toc": {
   "base_numbering": 1,
   "nav_menu": {},
   "number_sections": true,
   "sideBar": true,
   "skip_h1_title": false,
   "title_cell": "Table of Contents",
   "title_sidebar": "Contents",
   "toc_cell": false,
   "toc_position": {},
   "toc_section_display": true,
   "toc_window_display": false
  }
 },
 "nbformat": 4,
 "nbformat_minor": 5
}
