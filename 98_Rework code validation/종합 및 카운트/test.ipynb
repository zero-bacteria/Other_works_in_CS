{
 "cells": [
  {
   "cell_type": "code",
   "execution_count": 2,
   "id": "c2c561c0",
   "metadata": {},
   "outputs": [
    {
     "name": "stdout",
     "output_type": "stream",
     "text": [
      "220615.xlsx\n",
      "220623.xlsx\n"
     ]
    }
   ],
   "source": [
    "import os\n",
    "import openpyxl as px\n",
    "import pandas as pd\n",
    "import datetime\n",
    "\n",
    "creation_date = datetime.datetime.today()\n",
    "creation_date = creation_date.strftime('%Y%m%d')[2:]\n",
    "\n",
    "backdata_dir = './01_backdata/'\n",
    "\n",
    "pre_df = pd.read_excel(backdata_dir + os.listdir('./01_backdata')[-2])\n",
    "new_df = pd.read_excel(backdata_dir + os.listdir('./01_backdata')[-1])\n",
    "\n",
    "print(os.listdir('./01_backdata')[-2])\n",
    "print(os.listdir('./01_backdata')[-1])"
   ]
  },
  {
   "cell_type": "code",
   "execution_count": 3,
   "id": "e9337477",
   "metadata": {
    "scrolled": true
   },
   "outputs": [
    {
     "name": "stdout",
     "output_type": "stream",
     "text": [
      "Index(['Line Plan Season', 'PO Season', 'Costing Season', 'PCC', 'Factory',\n",
      "       'DPA', 'Dev.Style', 'Colorway', 'Model Name', 'New / Remain',\n",
      "       'Development Team', 'PCC TD', 'PFC', 'TD Code', 'RFC Trial date', 'PO',\n",
      "       'Current GAC', 'Previous GAC', 'GAC-49', 'ETQ', 'Previous ETQ',\n",
      "       'Document Posting', '5523 in PCX', 'OBS/MEOF CT / Tooling QTY',\n",
      "       'PST / SUTF / SBTF', 'YIELD', 'Bottom MEOF', 'CFM Shoe',\n",
      "       'PFC (Non trial c/w)', 'PFC (RFC trial c/w)', 'CS BOM (T/P X)',\n",
      "       'CS BOM (T/P O)', 'PCC PIC (Costing)', 'PMO Validator',\n",
      "       'Ready for review Date', 'Sephiroth Status', 'PCX Status',\n",
      "       'Quote Status Date', 'Quote Missing/Pending  reason', 'PCX Request',\n",
      "       'SAP PO', 'PMO Validator (Linesheet)', 'DPO', 'Quote Rework Indicator',\n",
      "       'OBS Type', 'GAC-', 'MY KEY', 'Team', 'BOM', 'BOL', 'Tooling Cost',\n",
      "       'Document', 'Other'],\n",
      "      dtype='object')\n",
      "Index(['PO Season', 'Line Plan Season', 'Costing Season', 'PCC', 'Factory',\n",
      "       'DPA', 'Dev.Style', 'Colorway', 'Model Name', 'New / Remain',\n",
      "       'Development Team', 'PCC TD', 'PFC', 'TD Code', 'RFC Trial date', 'PO',\n",
      "       'Current GAC', 'Previous GAC', 'GAC-49', 'ETQ', 'Previous ETQ',\n",
      "       'Document Posting', '5523 in PCX', 'OBS/MEOF CT / Tooling QTY',\n",
      "       'PST / SUTF / SBTF', 'YIELD', 'Bottom MEOF', 'CFM Shoe',\n",
      "       'PFC (Non trial c/w)', 'PFC (RFC trial c/w)', 'CS BOM (T/P X)',\n",
      "       'CS BOM (T/P O)', 'PCC PIC (Costing)', 'PMO Validator',\n",
      "       'Ready for review Date', 'Sephiroth Status', 'PCX Status',\n",
      "       'Quote Status Date', 'Quote Missing/Pending  reason', 'PCX Request',\n",
      "       'SAP PO', 'PMO Validator (Linesheet)', 'DPO', 'Quote Rework Indicator',\n",
      "       'OBS Type', 'GAC-'],\n",
      "      dtype='object')\n"
     ]
    }
   ],
   "source": [
    "print(pre_df.columns)\n",
    "print(new_df.columns)"
   ]
  },
  {
   "cell_type": "code",
   "execution_count": null,
   "id": "50ee5f4c",
   "metadata": {},
   "outputs": [],
   "source": []
  }
 ],
 "metadata": {
  "kernelspec": {
   "display_name": "Python 3 (ipykernel)",
   "language": "python",
   "name": "python3"
  },
  "language_info": {
   "codemirror_mode": {
    "name": "ipython",
    "version": 3
   },
   "file_extension": ".py",
   "mimetype": "text/x-python",
   "name": "python",
   "nbconvert_exporter": "python",
   "pygments_lexer": "ipython3",
   "version": "3.10.4"
  }
 },
 "nbformat": 4,
 "nbformat_minor": 5
}
