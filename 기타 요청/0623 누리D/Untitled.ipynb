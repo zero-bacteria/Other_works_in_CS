{
 "cells": [
  {
   "cell_type": "code",
   "execution_count": 1,
   "id": "9852dcbd",
   "metadata": {},
   "outputs": [],
   "source": [
    "import pandas as pd"
   ]
  },
  {
   "cell_type": "code",
   "execution_count": 2,
   "id": "eaefea1b",
   "metadata": {},
   "outputs": [
    {
     "data": {
      "text/html": [
       "<div>\n",
       "<style scoped>\n",
       "    .dataframe tbody tr th:only-of-type {\n",
       "        vertical-align: middle;\n",
       "    }\n",
       "\n",
       "    .dataframe tbody tr th {\n",
       "        vertical-align: top;\n",
       "    }\n",
       "\n",
       "    .dataframe thead th {\n",
       "        text-align: right;\n",
       "    }\n",
       "</style>\n",
       "<table border=\"1\" class=\"dataframe\">\n",
       "  <thead>\n",
       "    <tr style=\"text-align: right;\">\n",
       "      <th></th>\n",
       "      <th>Costing Season</th>\n",
       "      <th>PCC</th>\n",
       "      <th>Factory</th>\n",
       "      <th>DPA</th>\n",
       "      <th>Dev.Style</th>\n",
       "      <th>Colorway</th>\n",
       "      <th>Model Name</th>\n",
       "      <th>New / Remain</th>\n",
       "      <th>Report new/ remain</th>\n",
       "      <th>TD Code</th>\n",
       "      <th>...</th>\n",
       "      <th>ETQ</th>\n",
       "      <th>PCC PIC (Costing)</th>\n",
       "      <th>PMO Validator</th>\n",
       "      <th>Ready for review Date</th>\n",
       "      <th>PCX Status</th>\n",
       "      <th>Quote Missing/Pending  reason</th>\n",
       "      <th>PCX Request</th>\n",
       "      <th>SAP PO</th>\n",
       "      <th>Quote Rework Indicator</th>\n",
       "      <th>OBS Type</th>\n",
       "    </tr>\n",
       "  </thead>\n",
       "  <tbody>\n",
       "    <tr>\n",
       "      <th>0</th>\n",
       "      <td>FA22</td>\n",
       "      <td>VJ</td>\n",
       "      <td>VJ</td>\n",
       "      <td>FA08MNTECH894</td>\n",
       "      <td>319116-011</td>\n",
       "      <td>512361</td>\n",
       "      <td>AIR MAX TORCH 3 - 319116</td>\n",
       "      <td>Remain</td>\n",
       "      <td>Remain</td>\n",
       "      <td>F</td>\n",
       "      <td>...</td>\n",
       "      <td>2022-04-05</td>\n",
       "      <td>Tho Trinh (VJ)</td>\n",
       "      <td>Hang Tran</td>\n",
       "      <td>NaT</td>\n",
       "      <td>Confirmed</td>\n",
       "      <td>NaN</td>\n",
       "      <td>O</td>\n",
       "      <td>O</td>\n",
       "      <td>No</td>\n",
       "      <td>Footwear</td>\n",
       "    </tr>\n",
       "    <tr>\n",
       "      <th>1</th>\n",
       "      <td>FA22</td>\n",
       "      <td>DS</td>\n",
       "      <td>QD</td>\n",
       "      <td>FA21MNSRUN213</td>\n",
       "      <td>537732-004</td>\n",
       "      <td>958949</td>\n",
       "      <td>NIKE FREE RUN 2 - 537732</td>\n",
       "      <td>Remain</td>\n",
       "      <td>Remain</td>\n",
       "      <td>N2</td>\n",
       "      <td>...</td>\n",
       "      <td>2022-03-11</td>\n",
       "      <td>Woohyuk Nam</td>\n",
       "      <td>EulJi Lim</td>\n",
       "      <td>NaT</td>\n",
       "      <td>Confirmed</td>\n",
       "      <td>NaN</td>\n",
       "      <td>O</td>\n",
       "      <td>O</td>\n",
       "      <td>No</td>\n",
       "      <td>Footwear</td>\n",
       "    </tr>\n",
       "    <tr>\n",
       "      <th>2</th>\n",
       "      <td>HO22</td>\n",
       "      <td>DS</td>\n",
       "      <td>QD</td>\n",
       "      <td>FA21MNSRUN213</td>\n",
       "      <td>537732-004</td>\n",
       "      <td>958949</td>\n",
       "      <td>NIKE FREE RUN 2 - 537732</td>\n",
       "      <td>Remain</td>\n",
       "      <td>Remain</td>\n",
       "      <td>N2</td>\n",
       "      <td>...</td>\n",
       "      <td>2022-06-03</td>\n",
       "      <td>Woohyuk Nam</td>\n",
       "      <td>EulJi Lim</td>\n",
       "      <td>NaT</td>\n",
       "      <td>Confirmed</td>\n",
       "      <td>NaN</td>\n",
       "      <td>O</td>\n",
       "      <td>O</td>\n",
       "      <td>No</td>\n",
       "      <td>Promo Order</td>\n",
       "    </tr>\n",
       "    <tr>\n",
       "      <th>3</th>\n",
       "      <td>FA22</td>\n",
       "      <td>DS</td>\n",
       "      <td>QD</td>\n",
       "      <td>FA22MNSRUN721</td>\n",
       "      <td>537732-102</td>\n",
       "      <td>1109768</td>\n",
       "      <td>NIKE FREE RUN 2 - 537732</td>\n",
       "      <td>New</td>\n",
       "      <td>New</td>\n",
       "      <td>F4</td>\n",
       "      <td>...</td>\n",
       "      <td>2022-03-11</td>\n",
       "      <td>Woohyuk Nam</td>\n",
       "      <td>EulJi Lim</td>\n",
       "      <td>NaT</td>\n",
       "      <td>Confirmed</td>\n",
       "      <td>NaN</td>\n",
       "      <td>O</td>\n",
       "      <td>O</td>\n",
       "      <td>Yes</td>\n",
       "      <td>Footwear</td>\n",
       "    </tr>\n",
       "    <tr>\n",
       "      <th>4</th>\n",
       "      <td>FA22</td>\n",
       "      <td>DS</td>\n",
       "      <td>QD</td>\n",
       "      <td>FA22MNSRUN721</td>\n",
       "      <td>537732-408</td>\n",
       "      <td>1109770</td>\n",
       "      <td>NIKE FREE RUN 2 - 537732</td>\n",
       "      <td>New</td>\n",
       "      <td>New</td>\n",
       "      <td>F4</td>\n",
       "      <td>...</td>\n",
       "      <td>2022-03-25</td>\n",
       "      <td>Woohyuk Nam</td>\n",
       "      <td>EulJi Lim</td>\n",
       "      <td>NaT</td>\n",
       "      <td>Confirmed</td>\n",
       "      <td>NaN</td>\n",
       "      <td>O</td>\n",
       "      <td>O</td>\n",
       "      <td>Yes</td>\n",
       "      <td>Footwear</td>\n",
       "    </tr>\n",
       "  </tbody>\n",
       "</table>\n",
       "<p>5 rows × 22 columns</p>\n",
       "</div>"
      ],
      "text/plain": [
       "  Costing Season PCC Factory            DPA   Dev.Style  Colorway  \\\n",
       "0           FA22  VJ      VJ  FA08MNTECH894  319116-011    512361   \n",
       "1           FA22  DS      QD  FA21MNSRUN213  537732-004    958949   \n",
       "2           HO22  DS      QD  FA21MNSRUN213  537732-004    958949   \n",
       "3           FA22  DS      QD  FA22MNSRUN721  537732-102   1109768   \n",
       "4           FA22  DS      QD  FA22MNSRUN721  537732-408   1109770   \n",
       "\n",
       "                 Model Name New / Remain Report new/ remain TD Code  ...  \\\n",
       "0  AIR MAX TORCH 3 - 319116       Remain             Remain       F  ...   \n",
       "1  NIKE FREE RUN 2 - 537732       Remain             Remain      N2  ...   \n",
       "2  NIKE FREE RUN 2 - 537732       Remain             Remain      N2  ...   \n",
       "3  NIKE FREE RUN 2 - 537732          New                New      F4  ...   \n",
       "4  NIKE FREE RUN 2 - 537732          New                New      F4  ...   \n",
       "\n",
       "         ETQ PCC PIC (Costing) PMO Validator Ready for review Date PCX Status  \\\n",
       "0 2022-04-05    Tho Trinh (VJ)     Hang Tran                   NaT  Confirmed   \n",
       "1 2022-03-11       Woohyuk Nam     EulJi Lim                   NaT  Confirmed   \n",
       "2 2022-06-03       Woohyuk Nam     EulJi Lim                   NaT  Confirmed   \n",
       "3 2022-03-11       Woohyuk Nam     EulJi Lim                   NaT  Confirmed   \n",
       "4 2022-03-25       Woohyuk Nam     EulJi Lim                   NaT  Confirmed   \n",
       "\n",
       "  Quote Missing/Pending  reason PCX Request SAP PO Quote Rework Indicator  \\\n",
       "0                           NaN           O      O                     No   \n",
       "1                           NaN           O      O                     No   \n",
       "2                           NaN           O      O                     No   \n",
       "3                           NaN           O      O                    Yes   \n",
       "4                           NaN           O      O                    Yes   \n",
       "\n",
       "      OBS Type  \n",
       "0     Footwear  \n",
       "1     Footwear  \n",
       "2  Promo Order  \n",
       "3     Footwear  \n",
       "4     Footwear  \n",
       "\n",
       "[5 rows x 22 columns]"
      ]
     },
     "execution_count": 2,
     "metadata": {},
     "output_type": "execute_result"
    }
   ],
   "source": [
    "df = pd.read_excel('FAHO22_NCF FOB Tracking report_분석.xlsx')\n",
    "df.head()"
   ]
  },
  {
   "cell_type": "code",
   "execution_count": 3,
   "id": "1734718c",
   "metadata": {},
   "outputs": [],
   "source": [
    "df['model_code'] = df['Dev.Style'].str.slice(start=0, stop = 7).str.replace('-','')"
   ]
  },
  {
   "cell_type": "code",
   "execution_count": 38,
   "id": "6b2db685",
   "metadata": {},
   "outputs": [],
   "source": [
    "fdf = df[df['Costing Season'] == 'FA22']\n",
    "hdf = df[df['Costing Season'] == 'HO22']"
   ]
  },
  {
   "cell_type": "code",
   "execution_count": 39,
   "id": "7442e32c",
   "metadata": {},
   "outputs": [],
   "source": [
    "def mm(df):\n",
    "    my_df = df[['model_code', 'Quote Rework Indicator']].drop_duplicates()\n",
    "    print(my_df[my_df.duplicated(subset='model_code' )].model_code.to_list())\n",
    "    print(len(my_df[my_df.duplicated(subset='model_code' )].model_code.to_list()))\n",
    "\n"
   ]
  },
  {
   "cell_type": "code",
   "execution_count": 40,
   "id": "20c61332",
   "metadata": {},
   "outputs": [
    {
     "name": "stdout",
     "output_type": "stream",
     "text": [
      "['537732', '554724', '849559', '849560', 'AJ0846', 'AO3108', 'AV4789', 'BQ5451', 'BQ5453', 'CD4373', 'CD6867', 'CD6868', 'CD7783', 'CD7784', 'CI9923', 'CJ0861', 'CT3886', 'CU4111', 'CU4123', 'CU4152', 'CW2386', 'CZ1891', 'DA2725', 'DA9492', 'DC9115', 'DD1095', 'DD6203', 'DH3157', 'DH3437', 'DH3438', 'DH5425', 'DH8010', 'DM0919', 'DM9922']\n",
      "34\n",
      "['CD6867', 'CD6868', 'CI9923', 'DH3393', 'DH4439', 'DM0919']\n",
      "6\n"
     ]
    }
   ],
   "source": [
    "mm(fdf)\n",
    "mm(hdf)"
   ]
  },
  {
   "cell_type": "code",
   "execution_count": 71,
   "id": "a817530a",
   "metadata": {},
   "outputs": [
    {
     "data": {
      "text/plain": [
       "DA9492     True\n",
       "CQ9356     True\n",
       "CW2386     True\n",
       "CV0065     True\n",
       "CV0064     True\n",
       "          ...  \n",
       "DJ9976    False\n",
       "DJ9997    False\n",
       "DM0013    False\n",
       "DM0029    False\n",
       "FB8941    False\n",
       "Name: model_code, Length: 308, dtype: bool"
      ]
     },
     "execution_count": 71,
     "metadata": {},
     "output_type": "execute_result"
    }
   ],
   "source": [
    "my_df = df[['model_code', 'Quote Rework Indicator']].drop_duplicates()\n",
    "(my_df.model_code.value_counts() > 1)"
   ]
  },
  {
   "cell_type": "code",
   "execution_count": 70,
   "id": "ced612b9",
   "metadata": {},
   "outputs": [
    {
     "name": "stdout",
     "output_type": "stream",
     "text": [
      "['DA9492', 'CQ9356', 'CW2386', 'CV0065', 'CV0064', 'CU4152', 'CU4123', 'CU4111', 'CT3886', 'CQ9545', 'DM0919', 'CZ1804', 'DM3413', 'DM3414', 'CJ0861', 'DM8261', 'CI9923', '537732', 'CD7784', 'CD7783', 'CZ0596', 'DH8010', 'CD6867', 'DH3437', 'DD8686', 'DD6203', 'DD1095', 'DC9319', 'DC9318', 'DC9115', 'DH3157', 'DH3393', 'DH3438', 'CZ1891', 'DC3579', 'DH4439', 'DB2477', 'DH5128', 'DA2725', 'CZ7918', 'DH5425', 'CZ3950', 'CD6868', 'DD9293', 'DN4890', '833536', 'AJ0846', '942839', 'DM8968', '942836', 'DQ0473', '849560', 'AV4789', '849559', 'BQ5451', 'BQ5453', 'AO3108', 'DM8974', 'CD4373', 'BV0074', 'DM9922', '554724', 'DR0290', 'DV9193', 'DR5727', 'DQ5188', 'DR5726', 'DR5280', 'DV6018', 'DV6491', 'DR2756', 'DV9422', 'DV9431', 'DV9425', 'DR2395', 'DR0422', 'DQ6947', 'DR5751', 'DV9428', 'DX0116', 'DX0115', 'DQ6948', 'DR0419', 'DR9926', 'DV5377', 'DV5379', 'DR9908', 'DR9930', 'DR9925', 'DR9924', 'DR9923', 'DR9935', 'DR9940', 'DR9945', 'DX1599', 'DR9922', 'DV0546', 'DV0547', 'DV0659', 'DV1459', 'DR7874', 'DR9905', 'DR9837', 'DR9835', 'DV1734', 'DV1894', 'DV3156', 'DV3335', 'DV3353', 'DV3500', 'DV5376', 'DR7875', 'DV5378', 'DR9956', '319116', 'DX1626', 'DZ4500', 'DZ4848', 'DZ4839', 'DZ4783', 'DZ4708', 'DZ4707', 'DZ4504', 'DZ4498', 'DZ4862', 'DZ4495', 'DZ4449', 'DZ4448', 'DZ4441', 'DZ4398', 'DZ2773', 'DZ4850', 'DZ5175', 'DX1936', 'FB1847', 'FB8476', 'FB7171', 'FB3353', 'FB1877', 'FB1876', 'FB1848', 'FB1846', 'DZ5186', 'DZ6754', 'DZ6326', 'DZ5222', 'DZ5221', 'DZ5217', 'DZ5209', 'DZ2769', 'DZ2756', 'DX9542', 'DX3284', 'DX3372', 'DX3371', 'DX3370', 'DQ4982', 'DX3316', 'DX3299', 'DX3280', 'DX9279', 'DX3276', 'DX3273', 'DX3091', 'DX2656', 'DX2651', 'DX2313', 'DX3380', 'DX3415', 'DX3576', 'DX3717', 'DX3723', 'DX3772', 'DX6044', 'DX6049', 'DX6053', 'DX6067', 'DX6128', 'DX6553', 'DX8946', 'DX8949', 'DX8966', 'DX8969', 'DX9272', 'DQ5002', 'DM8262', 'DQ4679', 'CI5752', 'CJ1670', 'CJ3906', 'CJ6314', 'CK0715', 'CK2612', 'CN0136', 'CN3498', 'CN8490', 'CT2392', 'CT2401', 'CU4151', 'CV0400', 'CV1889', 'CV3817', 'CW1590', 'CW1626', 'CW1627', 'CW1629', 'CW7306', 'CW7645', 'CZ1795', 'CZ1884', 'CZ4149', 'DA4653', 'DA9357', 'DB3551', 'DB3552', 'CJ0860', 'CI3898', 'DQ4678', 'CD6864', '553558', '685131', '685135', '828654', '833537', '862507', '907564', '907566', '908019', '942837', '942838', 'AH1020', 'AJ0847', 'AQ4312', 'AR7420', 'AR7421', 'AT8240', 'AV3165', 'AV3166', 'BQ3378', 'BQ9646', 'BQ9647', 'BQ9665', 'BV2519', 'BV9977', 'CD4382', 'CD4385', 'DB3553', 'DC0774', 'DC4068', 'DC4073', 'DM1119', 'DM1120', 'DM2424', 'DM3384', 'DM8491', 'DM8492', 'DN2647', 'DN3555', 'DN3559', 'DN4590', 'DN6947', 'DO2421', 'DO8095', 'DO9480', 'DO9850', 'DQ0276', 'DQ0277', 'DQ0278', 'DQ0303', 'DQ0304', 'DQ0305', 'DQ3977', 'DQ3987', 'DQ3991', 'DQ4071', 'DQ4363', 'DQ4674', 'DM0861', 'DM0650', 'DM0036', 'DH4072', 'DC4074', 'DC8725', 'DC8749', 'DC8753', 'DC9836', 'DC9993', 'DD9294', 'DD9361', 'DD9682', 'DH0531', 'DH3394', 'DH4071', 'DH4093', 'DM0033', 'DH5131', 'DH5359', 'DH8853', 'DH9765', 'DJ3624', 'DJ5226', 'DJ6308', 'DJ6566', 'DJ9976', 'DJ9997', 'DM0013', 'DM0029', 'FB8941']\n",
      "308\n"
     ]
    }
   ],
   "source": [
    "print(my_index)\n",
    "print(len(my_index))"
   ]
  },
  {
   "cell_type": "code",
   "execution_count": 34,
   "id": "c8aba21a",
   "metadata": {
    "collapsed": true
   },
   "outputs": [
    {
     "data": {
      "text/plain": [
       "model_code  Quote Rework Indicator\n",
       "319116      No                        1\n",
       "537732      No                        1\n",
       "            Yes                       1\n",
       "553558      No                        1\n",
       "554724      Yes                       1\n",
       "                                     ..\n",
       "FB1877      Yes                       1\n",
       "FB3353      No                        1\n",
       "FB7171      No                        1\n",
       "FB8476      Yes                       1\n",
       "FB8941      No                        1\n",
       "Length: 370, dtype: int64"
      ]
     },
     "execution_count": 34,
     "metadata": {},
     "output_type": "execute_result"
    }
   ],
   "source": [
    "\n",
    "df.index = df.model_code\n",
    "df.loc[my_index]"
   ]
  }
 ],
 "metadata": {
  "kernelspec": {
   "display_name": "Python 3 (ipykernel)",
   "language": "python",
   "name": "python3"
  },
  "language_info": {
   "codemirror_mode": {
    "name": "ipython",
    "version": 3
   },
   "file_extension": ".py",
   "mimetype": "text/x-python",
   "name": "python",
   "nbconvert_exporter": "python",
   "pygments_lexer": "ipython3",
   "version": "3.10.4"
  }
 },
 "nbformat": 4,
 "nbformat_minor": 5
}
